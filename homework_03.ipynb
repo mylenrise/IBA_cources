{
 "cells": [
  {
   "cell_type": "markdown",
   "metadata": {},
   "source": [
    "**Please follow PEP8 during writing code in Python. Readability matters**"
   ]
  },
  {
   "cell_type": "markdown",
   "metadata": {},
   "source": [
    "# NumPy"
   ]
  },
  {
   "cell_type": "markdown",
   "metadata": {},
   "source": [
    "1. Write a NumPy program to test if two arrays are element-wise equal within a tolerance."
   ]
  },
  {
   "cell_type": "code",
   "execution_count": 76,
   "metadata": {},
   "outputs": [
    {
     "data": {
      "text/plain": [
       "True"
      ]
     },
     "execution_count": 76,
     "metadata": {},
     "output_type": "execute_result"
    }
   ],
   "source": [
    "import numpy as np\n",
    "\n",
    "A = np.array([[2, 4, 2.00], [2, 6, 7]])\n",
    "B = np.array([[2, 4, 2], [2, 6.0, 7]])\n",
    "np.allclose(A, B)"
   ]
  },
  {
   "cell_type": "markdown",
   "metadata": {},
   "source": [
    "2. Write a NumPy program to create a 3x4 matrix filled with values from 10 to 21"
   ]
  },
  {
   "cell_type": "code",
   "execution_count": 26,
   "metadata": {},
   "outputs": [
    {
     "data": {
      "text/plain": [
       "array([[10, 11, 12, 13],\n",
       "       [14, 15, 16, 17],\n",
       "       [18, 19, 20, 21]])"
      ]
     },
     "execution_count": 26,
     "metadata": {},
     "output_type": "execute_result"
    }
   ],
   "source": [
    "m = 3\n",
    "n = 4\n",
    "v = 10\n",
    "\n",
    "M = np.array([[x for x in range(v + y*4, v + y*4 + n)] for y in range(m)])\n",
    "M"
   ]
  },
  {
   "cell_type": "markdown",
   "metadata": {},
   "source": [
    "*3. Write a NumPy program to create an 4x4 matrix in which 0 and 1 are staggered, with zeros on the main diagonal."
   ]
  },
  {
   "cell_type": "code",
   "execution_count": 27,
   "metadata": {},
   "outputs": [
    {
     "data": {
      "text/plain": [
       "array([[0, 1, 0, 1],\n",
       "       [1, 0, 1, 0],\n",
       "       [0, 1, 0, 1],\n",
       "       [1, 0, 1, 0]])"
      ]
     },
     "execution_count": 27,
     "metadata": {},
     "output_type": "execute_result"
    }
   ],
   "source": [
    "n = 4\n",
    "v = 10\n",
    "\n",
    "M = np.array([[(x+y) % 2 for x in range(n)] for y in range(n)])\n",
    "M"
   ]
  },
  {
   "cell_type": "markdown",
   "metadata": {},
   "source": [
    "4. Write a NumPy program to compute the cross product of two given vectors."
   ]
  },
  {
   "cell_type": "code",
   "execution_count": 77,
   "metadata": {},
   "outputs": [
    {
     "data": {
      "text/plain": [
       "array([-11,  10, -17])"
      ]
     },
     "execution_count": 77,
     "metadata": {},
     "output_type": "execute_result"
    }
   ],
   "source": [
    "a = np.array([3, 5, 1, ])\n",
    "b = np.array([4, 1, -2])\n",
    "\n",
    "np.cross(a, b)"
   ]
  },
  {
   "cell_type": "markdown",
   "metadata": {},
   "source": [
    "5. Write a NumPy program to calculate the QR decomposition of a given matrix."
   ]
  },
  {
   "cell_type": "code",
   "execution_count": 29,
   "metadata": {},
   "outputs": [
    {
     "data": {
      "text/plain": [
       "(array([[-0.40160966,  0.81978229,  0.40824829],\n",
       "        [-0.56225353,  0.13116517, -0.81649658],\n",
       "        [-0.7228974 , -0.55745196,  0.40824829]]),\n",
       " array([[-2.48997992e+01, -2.65865598e+01, -2.82733204e+01,\n",
       "         -2.99600810e+01],\n",
       "        [ 0.00000000e+00,  3.93495501e-01,  7.86991003e-01,\n",
       "          1.18048650e+00],\n",
       "        [ 0.00000000e+00,  0.00000000e+00,  4.70391795e-16,\n",
       "          1.02857729e-15]]))"
      ]
     },
     "execution_count": 29,
     "metadata": {},
     "output_type": "execute_result"
    }
   ],
   "source": [
    "M = np.array([[x for x in range(v + y*4, v + y*4 + n)] for y in range(m)])\n",
    "\n",
    "np.linalg.qr(M)"
   ]
  },
  {
   "cell_type": "markdown",
   "metadata": {},
   "source": [
    "6. Write a NumPy program to find the most frequent value in an array."
   ]
  },
  {
   "cell_type": "code",
   "execution_count": 47,
   "metadata": {},
   "outputs": [
    {
     "name": "stdout",
     "output_type": "stream",
     "text": [
      "[3, 5]\n"
     ]
    }
   ],
   "source": [
    "M = np.array([[3, 34, 3, 2, 6], [2, 3, 5, 5, 5]])  # 2 dim, 2 most frequent val\n",
    "M = np.reshape(M, M.size)\n",
    "\n",
    "count = np.bincount(M)\n",
    "res = np.argwhere(count == np.amax(count))\n",
    "print(res.flatten().tolist())"
   ]
  },
  {
   "cell_type": "markdown",
   "metadata": {},
   "source": [
    "7. Write a NumPy program to create a random vector of size 10 and sort it"
   ]
  },
  {
   "cell_type": "code",
   "execution_count": 78,
   "metadata": {},
   "outputs": [
    {
     "name": "stdout",
     "output_type": "stream",
     "text": [
      "Vector: [0.18940386 0.02174471 0.04639567 0.50324214 0.10954373 0.14883101\n",
      " 0.12902569 0.00614494 0.89964281 0.60541086]\n",
      "Sorted: [0.00614494 0.02174471 0.04639567 0.10954373 0.12902569 0.14883101\n",
      " 0.18940386 0.50324214 0.60541086 0.89964281]\n"
     ]
    }
   ],
   "source": [
    "size = 10\n",
    "v = np.random.random(size)\n",
    "print('Vector:',v)\n",
    "\n",
    "v = np.sort(v)\n",
    "print('Sorted:',v)"
   ]
  },
  {
   "cell_type": "markdown",
   "metadata": {},
   "source": [
    "*8. Write a NumPy program to compute the trigonometric sine, cosine and tangent array of angles given in degrees."
   ]
  },
  {
   "cell_type": "code",
   "execution_count": 81,
   "metadata": {
    "scrolled": true
   },
   "outputs": [
    {
     "name": "stdout",
     "output_type": "stream",
     "text": [
      "[0.035 0.999 0.035]\n",
      "[-0.407  0.914 -0.445]\n",
      "[ 0. -1. -0.]\n",
      "[0. 1. 0.]\n",
      "[  0.999  -0.035 -28.636]\n"
     ]
    }
   ],
   "source": [
    "def trig_func(data):\n",
    "    for d in data:\n",
    "        d = np.deg2rad(d)\n",
    "        yield np.array([round(np.sin(d), 3),\n",
    "                        round(np.cos(d), 3), round(np.tan(d), 3)])\n",
    "\n",
    "\n",
    "angles = [2, -24, 180, 0, 32492]\n",
    "res = trig_func(angles)\n",
    "\n",
    "for r in res:\n",
    "    print(r)"
   ]
  },
  {
   "cell_type": "markdown",
   "metadata": {},
   "source": [
    "**9. Write a NumPy program to calculate distance matrix D (MxN) between each row of the matrix X (MxD) and each row of the matrix Y (NxD) using the L2 norm. Implement your algorithm using `for` loops. Try to implement the logic without any loops using only vectorized operations."
   ]
  },
  {
   "cell_type": "code",
   "execution_count": 84,
   "metadata": {},
   "outputs": [
    {
     "name": "stdout",
     "output_type": "stream",
     "text": [
      "Function with loops: [[ 7.54983444  3.16227766]\n",
      " [15.29705854 19.26136028]\n",
      " [ 7.68114575  5.47722558]]\n",
      "Function without loops: [[ 7.54983444  3.16227766]\n",
      " [15.29705854 19.26136028]\n",
      " [ 7.68114575  5.47722558]]\n"
     ]
    }
   ],
   "source": [
    "def dist_l2(x, y):\n",
    "    res = 0\n",
    "    for i in range(len(x)):\n",
    "        res += (x[i]-y[i])** 2\n",
    "    return res ** (1 / 2)\n",
    "\n",
    "\n",
    "def dist_with_loops(X, Y):\n",
    "    dist = np.array([])\n",
    "    for rx in X:\n",
    "        for ry in Y:\n",
    "            dist = np.r_[dist, dist_l2(rx, ry)]\n",
    "    return np.reshape(dist, (len(X), len(Y)))\n",
    "\n",
    "\n",
    "def dist_without_loops(X, Y):\n",
    "    return np.array([[np.linalg.norm(rx - ry) for ry in Y] for rx in X])\n",
    "\n",
    "\n",
    "X = np.array([[1, 3, 4], [23, 5, 3], [3, 0, 9]])\n",
    "Y = np.array([[8, 5, 6], [4, 2, 4]])\n",
    "\n",
    "print('Function with loops:', dist_with_loops(X, Y))\n",
    "print('Function without loops:', dist_without_loops(X, Y))"
   ]
  }
 ],
 "metadata": {
  "kernelspec": {
   "display_name": "Python 3",
   "language": "python",
   "name": "python3"
  },
  "language_info": {
   "codemirror_mode": {
    "name": "ipython",
    "version": 3
   },
   "file_extension": ".py",
   "mimetype": "text/x-python",
   "name": "python",
   "nbconvert_exporter": "python",
   "pygments_lexer": "ipython3",
   "version": "3.7.3"
  },
  "toc": {
   "base_numbering": 1,
   "nav_menu": {},
   "number_sections": false,
   "sideBar": true,
   "skip_h1_title": false,
   "title_cell": "Table of Contents",
   "title_sidebar": "Contents",
   "toc_cell": false,
   "toc_position": {},
   "toc_section_display": true,
   "toc_window_display": true
  }
 },
 "nbformat": 4,
 "nbformat_minor": 4
}
