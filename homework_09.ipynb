{
 "cells": [
  {
   "cell_type": "code",
   "execution_count": 373,
   "metadata": {},
   "outputs": [],
   "source": [
    "import numpy as np\n",
    "import pandas as pd\n",
    "from sklearn.model_selection import train_test_split, validation_curve, learning_curve\n",
    "from sklearn.tree import DecisionTreeClassifier\n",
    "from sklearn.ensemble import RandomForestClassifier, ExtraTreesClassifier, VotingClassifier\n",
    "from sklearn.tree import export_graphviz\n",
    "from sklearn import metrics\n",
    "from matplotlib import pyplot as plt\n",
    "from IPython.display import Image\n",
    "from sklearn.linear_model import LogisticRegression\n",
    "from sklearn.model_selection import RandomizedSearchCV\n",
    "from scipy.stats import uniform, truncnorm, randint\n",
    "import warnings\n",
    "from pprint import pprint\n",
    "warnings.filterwarnings('ignore')\n",
    "\n",
    "\n",
    "%matplotlib inline"
   ]
  },
  {
   "cell_type": "code",
   "execution_count": 374,
   "metadata": {},
   "outputs": [],
   "source": [
    "df = pd.read_csv('ptrain.csv',sep = ',')\n",
    "pd.set_option('display.max_columns', 50)\n",
    "df = df.fillna(0)\n"
   ]
  },
  {
   "cell_type": "code",
   "execution_count": 375,
   "metadata": {},
   "outputs": [],
   "source": [
    "y = df['ACTIVITY_DEC_16']\n",
    "df.drop(['ACTIVITY_DEC_16'], axis=1, inplace=True)\n",
    "X = df.copy()"
   ]
  },
  {
   "cell_type": "code",
   "execution_count": 376,
   "metadata": {},
   "outputs": [],
   "source": [
    "X_train, X_test, y_train, y_test = train_test_split(X, y, test_size=0.3, random_state=42)"
   ]
  },
  {
   "cell_type": "code",
   "execution_count": 377,
   "metadata": {},
   "outputs": [],
   "source": [
    "searchScores = []\n",
    "searchCVScores = []"
   ]
  },
  {
   "cell_type": "code",
   "execution_count": 378,
   "metadata": {},
   "outputs": [],
   "source": [
    "clf_dt = DecisionTreeClassifier(   \n",
    "    criterion='entropy', \n",
    "    max_depth=5, \n",
    "    min_samples_split=3,\n",
    "    min_samples_leaf=13, \n",
    "    max_features=None, \n",
    "    random_state=42\n",
    " )\n",
    "\n"
   ]
  },
  {
   "cell_type": "code",
   "execution_count": 379,
   "metadata": {},
   "outputs": [
    {
     "data": {
      "text/plain": [
       "DecisionTreeClassifier(class_weight=None, criterion='entropy', max_depth=5,\n",
       "                       max_features=None, max_leaf_nodes=None,\n",
       "                       min_impurity_decrease=0.0, min_impurity_split=None,\n",
       "                       min_samples_leaf=13, min_samples_split=3,\n",
       "                       min_weight_fraction_leaf=0.0, presort=False,\n",
       "                       random_state=42, splitter='best')"
      ]
     },
     "execution_count": 379,
     "metadata": {},
     "output_type": "execute_result"
    }
   ],
   "source": [
    "clf_dt.fit(X_train, y_train)"
   ]
  },
  {
   "cell_type": "code",
   "execution_count": 380,
   "metadata": {},
   "outputs": [
    {
     "name": "stdout",
     "output_type": "stream",
     "text": [
      "              precision    recall  f1-score   support\n",
      "\n",
      "           0       0.88      0.87      0.88      2715\n",
      "           1       0.94      0.95      0.95      6048\n",
      "\n",
      "    accuracy                           0.92      8763\n",
      "   macro avg       0.91      0.91      0.91      8763\n",
      "weighted avg       0.92      0.92      0.92      8763\n",
      "\n"
     ]
    },
    {
     "data": {
      "text/plain": [
       "0.9695350334220041"
      ]
     },
     "execution_count": 380,
     "metadata": {},
     "output_type": "execute_result"
    }
   ],
   "source": [
    "y_tree_probability = clf_dt.predict_proba(X_test)[:,1]\n",
    "y_tree_predict = clf_dt.predict(X_test)\n",
    "# Check metrics\n",
    "print(metrics.classification_report(y_test, y_tree_predict))\n",
    "# Check ROC-AUC score\n",
    "\n",
    "searchScores.append(metrics.roc_auc_score(y_test, y_tree_probability))\n",
    "searchScores[-1]"
   ]
  },
  {
   "cell_type": "code",
   "execution_count": 381,
   "metadata": {},
   "outputs": [],
   "source": [
    "# model_params = {\n",
    "#     'min_samples_leaf': randint(1,30),\n",
    "#     'max_depth': randint(1,28),\n",
    "#     'max_features': truncnorm(a=0, b=1, loc=0.25, scale=0.1)  \n",
    "# }\n",
    "# clf_dt = DecisionTreeClassifier()\n",
    "# clf = RandomizedSearchCV(clf_dt, model_params, n_iter=100, cv=5, random_state=1, n_jobs=-1)\n",
    "# model = clf.fit(X_train, y_train)"
   ]
  },
  {
   "cell_type": "code",
   "execution_count": 382,
   "metadata": {},
   "outputs": [],
   "source": [
    "# pprint(model.best_estimator_.get_params())"
   ]
  },
  {
   "cell_type": "code",
   "execution_count": 383,
   "metadata": {},
   "outputs": [],
   "source": [
    "clf_dt_s = DecisionTreeClassifier(   \n",
    "    criterion='entropy', \n",
    "    max_depth=27, \n",
    "    min_samples_split=2,\n",
    "    min_samples_leaf=14, \n",
    "    max_features=None,\n",
    "    random_state=42\n",
    " )\n"
   ]
  },
  {
   "cell_type": "code",
   "execution_count": 384,
   "metadata": {},
   "outputs": [
    {
     "data": {
      "text/plain": [
       "DecisionTreeClassifier(class_weight=None, criterion='entropy', max_depth=27,\n",
       "                       max_features=None, max_leaf_nodes=None,\n",
       "                       min_impurity_decrease=0.0, min_impurity_split=None,\n",
       "                       min_samples_leaf=14, min_samples_split=2,\n",
       "                       min_weight_fraction_leaf=0.0, presort=False,\n",
       "                       random_state=42, splitter='best')"
      ]
     },
     "execution_count": 384,
     "metadata": {},
     "output_type": "execute_result"
    }
   ],
   "source": [
    "clf_dt_s.fit(X_train, y_train)"
   ]
  },
  {
   "cell_type": "code",
   "execution_count": 385,
   "metadata": {},
   "outputs": [
    {
     "name": "stdout",
     "output_type": "stream",
     "text": [
      "              precision    recall  f1-score   support\n",
      "\n",
      "           0       0.88      0.85      0.87      2715\n",
      "           1       0.93      0.95      0.94      6048\n",
      "\n",
      "    accuracy                           0.92      8763\n",
      "   macro avg       0.91      0.90      0.90      8763\n",
      "weighted avg       0.92      0.92      0.92      8763\n",
      "\n"
     ]
    },
    {
     "data": {
      "text/plain": [
       "0.9574186434856324"
      ]
     },
     "execution_count": 385,
     "metadata": {},
     "output_type": "execute_result"
    }
   ],
   "source": [
    "y_tree_probability = clf_dt_s.predict_proba(X_test)[:,1]\n",
    "y_tree_predict = clf_dt_s.predict(X_test)\n",
    "# Check metrics\n",
    "print(metrics.classification_report(y_test, y_tree_predict))\n",
    "# Check ROC-AUC score\n",
    "searchCVScores.append(metrics.roc_auc_score(y_test, y_tree_probability))\n",
    "searchCVScores[-1]"
   ]
  },
  {
   "cell_type": "code",
   "execution_count": 386,
   "metadata": {},
   "outputs": [],
   "source": [
    "clf_rf = RandomForestClassifier(\n",
    "    n_estimators=100, \n",
    "    criterion='entropy',     \n",
    "    max_depth=None, \n",
    "    min_samples_split=2,\n",
    "    min_samples_leaf=7, \n",
    "    max_features='sqrt',\n",
    "    bootstrap=True, \n",
    "    n_jobs=-1,\n",
    "    max_leaf_nodes=29,\n",
    "    random_state=42\n",
    "       \n",
    ")"
   ]
  },
  {
   "cell_type": "code",
   "execution_count": 387,
   "metadata": {},
   "outputs": [
    {
     "data": {
      "text/plain": [
       "RandomForestClassifier(bootstrap=True, class_weight=None, criterion='entropy',\n",
       "                       max_depth=None, max_features='sqrt', max_leaf_nodes=29,\n",
       "                       min_impurity_decrease=0.0, min_impurity_split=None,\n",
       "                       min_samples_leaf=7, min_samples_split=2,\n",
       "                       min_weight_fraction_leaf=0.0, n_estimators=100,\n",
       "                       n_jobs=-1, oob_score=False, random_state=42, verbose=0,\n",
       "                       warm_start=False)"
      ]
     },
     "execution_count": 387,
     "metadata": {},
     "output_type": "execute_result"
    }
   ],
   "source": [
    "clf_rf.fit(X_train, y_train)"
   ]
  },
  {
   "cell_type": "code",
   "execution_count": 388,
   "metadata": {},
   "outputs": [
    {
     "name": "stdout",
     "output_type": "stream",
     "text": [
      "              precision    recall  f1-score   support\n",
      "\n",
      "           0       0.89      0.87      0.88      2715\n",
      "           1       0.94      0.95      0.95      6048\n",
      "\n",
      "    accuracy                           0.92      8763\n",
      "   macro avg       0.91      0.91      0.91      8763\n",
      "weighted avg       0.92      0.92      0.92      8763\n",
      "\n"
     ]
    },
    {
     "data": {
      "text/plain": [
       "0.9726327197033918"
      ]
     },
     "execution_count": 388,
     "metadata": {},
     "output_type": "execute_result"
    }
   ],
   "source": [
    "y_tree_probability = clf_rf.predict_proba(X_test)[:,1]\n",
    "y_rf_predict = clf_rf.predict(X_test)\n",
    "\n",
    "# Check metrics\n",
    "print(metrics.classification_report(y_test, y_rf_predict))\n",
    "\n",
    "# Check ROC-AUC score\n",
    "searchScores.append(metrics.roc_auc_score(y_test, y_tree_probability))\n",
    "searchScores[-1]"
   ]
  },
  {
   "cell_type": "code",
   "execution_count": 389,
   "metadata": {},
   "outputs": [],
   "source": [
    "# model_params = {\n",
    "#     'n_estimators': randint(4, 100),\n",
    "#     'max_features': truncnorm(a=0, b=1, loc=0.25, scale=0.1),\n",
    "#     'max_leaf_nodes': randint(2, 40),\n",
    "#     'min_samples_leaf': randint(2, 15),\n",
    "#     'random_state': randint(35,43)\n",
    "# }\n",
    "# clf_rf = RandomForestClassifier()\n",
    "# clf = RandomizedSearchCV(clf_rf, model_params, n_iter=80, cv=5, random_state=1, n_jobs=-1)\n",
    "# model = clf.fit(X_train, y_train)\n"
   ]
  },
  {
   "cell_type": "code",
   "execution_count": 390,
   "metadata": {},
   "outputs": [],
   "source": [
    "# pprint(model.best_estimator_.get_params())"
   ]
  },
  {
   "cell_type": "markdown",
   "metadata": {},
   "source": []
  },
  {
   "cell_type": "code",
   "execution_count": 391,
   "metadata": {},
   "outputs": [],
   "source": [
    "clf_rf_s = RandomForestClassifier(\n",
    "    n_estimators=79,\n",
    "    criterion='gini',\n",
    "    max_depth=None,\n",
    "    min_samples_leaf=10,\n",
    "    min_weight_fraction_leaf=0.0,\n",
    "    max_features=0.2864742729236049,\n",
    "    max_leaf_nodes=14,\n",
    "    min_impurity_decrease=0.0,\n",
    "    min_impurity_split=None,\n",
    "    bootstrap=True,\n",
    "    oob_score=False,\n",
    "    n_jobs=-1,\n",
    "    random_state=40,\n",
    "    verbose=0,\n",
    "    warm_start=True,\n",
    "    class_weight=None\n",
    ")"
   ]
  },
  {
   "cell_type": "code",
   "execution_count": 392,
   "metadata": {},
   "outputs": [
    {
     "data": {
      "text/plain": [
       "RandomForestClassifier(bootstrap=True, class_weight=None, criterion='gini',\n",
       "                       max_depth=None, max_features=0.2864742729236049,\n",
       "                       max_leaf_nodes=14, min_impurity_decrease=0.0,\n",
       "                       min_impurity_split=None, min_samples_leaf=10,\n",
       "                       min_samples_split=2, min_weight_fraction_leaf=0.0,\n",
       "                       n_estimators=79, n_jobs=-1, oob_score=False,\n",
       "                       random_state=40, verbose=0, warm_start=True)"
      ]
     },
     "execution_count": 392,
     "metadata": {},
     "output_type": "execute_result"
    }
   ],
   "source": [
    "clf_rf_s.fit(X_train, y_train)"
   ]
  },
  {
   "cell_type": "code",
   "execution_count": 393,
   "metadata": {},
   "outputs": [
    {
     "name": "stdout",
     "output_type": "stream",
     "text": [
      "              precision    recall  f1-score   support\n",
      "\n",
      "           0       0.89      0.86      0.88      2715\n",
      "           1       0.94      0.95      0.95      6048\n",
      "\n",
      "    accuracy                           0.92      8763\n",
      "   macro avg       0.92      0.91      0.91      8763\n",
      "weighted avg       0.92      0.92      0.92      8763\n",
      "\n"
     ]
    },
    {
     "data": {
      "text/plain": [
       "0.9709039166106384"
      ]
     },
     "execution_count": 393,
     "metadata": {},
     "output_type": "execute_result"
    }
   ],
   "source": [
    "y_tree_probability = clf_rf_s.predict_proba(X_test)[:,1]\n",
    "y_rf_predict = clf_rf_s.predict(X_test)\n",
    "\n",
    "# Check metrics\n",
    "print(metrics.classification_report(y_test, y_rf_predict))\n",
    "\n",
    "# Check ROC-AUC score\n",
    "searchCVScores.append(metrics.roc_auc_score(y_test, y_tree_probability))\n",
    "searchCVScores[-1]"
   ]
  },
  {
   "cell_type": "code",
   "execution_count": 394,
   "metadata": {},
   "outputs": [],
   "source": [
    "clf_et = ExtraTreesClassifier(\n",
    "    n_estimators=180,\n",
    "    criterion='gini',\n",
    "    max_depth=None,\n",
    "    min_samples_split=3,\n",
    "    min_samples_leaf=1,\n",
    "    max_features='auto',\n",
    "    max_leaf_nodes=None,\n",
    "    min_impurity_decrease=0.0,\n",
    "    min_impurity_split=None,\n",
    "    bootstrap=True,\n",
    "    oob_score=False,\n",
    "    n_jobs=-1,\n",
    "    random_state=3,\n",
    "    verbose=0,\n",
    "    warm_start=False,\n",
    "    class_weight=None\n",
    ")"
   ]
  },
  {
   "cell_type": "code",
   "execution_count": 395,
   "metadata": {},
   "outputs": [
    {
     "data": {
      "text/plain": [
       "ExtraTreesClassifier(bootstrap=True, class_weight=None, criterion='gini',\n",
       "                     max_depth=None, max_features='auto', max_leaf_nodes=None,\n",
       "                     min_impurity_decrease=0.0, min_impurity_split=None,\n",
       "                     min_samples_leaf=1, min_samples_split=3,\n",
       "                     min_weight_fraction_leaf=0.0, n_estimators=180, n_jobs=-1,\n",
       "                     oob_score=False, random_state=3, verbose=0,\n",
       "                     warm_start=False)"
      ]
     },
     "execution_count": 395,
     "metadata": {},
     "output_type": "execute_result"
    }
   ],
   "source": [
    "clf_et.fit(X_train, y_train)"
   ]
  },
  {
   "cell_type": "code",
   "execution_count": 396,
   "metadata": {},
   "outputs": [
    {
     "name": "stdout",
     "output_type": "stream",
     "text": [
      "              precision    recall  f1-score   support\n",
      "\n",
      "           0       0.89      0.84      0.87      2715\n",
      "           1       0.93      0.95      0.94      6048\n",
      "\n",
      "    accuracy                           0.92      8763\n",
      "   macro avg       0.91      0.90      0.90      8763\n",
      "weighted avg       0.92      0.92      0.92      8763\n",
      "\n"
     ]
    },
    {
     "data": {
      "text/plain": [
       "0.9695676759040017"
      ]
     },
     "execution_count": 396,
     "metadata": {},
     "output_type": "execute_result"
    }
   ],
   "source": [
    "y_tree_probability = clf_et.predict_proba(X_test)[:,1]\n",
    "y_v_predict = clf_et.predict(X_test)\n",
    "\n",
    "# Check metrics\n",
    "print(metrics.classification_report(y_test, y_v_predict))\n",
    "\n",
    "# Check ROC-AUC score\n",
    "searchScores.append(metrics.roc_auc_score(y_test, y_tree_probability))\n",
    "searchScores[-1]"
   ]
  },
  {
   "cell_type": "code",
   "execution_count": 397,
   "metadata": {},
   "outputs": [],
   "source": [
    "# model_params = {\n",
    "#     'n_estimators': randint(4, 200),\n",
    "#     'max_features': truncnorm(a=0, b=1, loc=0.25, scale=0.1),\n",
    "#     'max_leaf_nodes': randint(2, 40),\n",
    "#     'min_samples_leaf': randint(2, 15),\n",
    "#     'random_state': randint(35,43)\n",
    "# }\n",
    "# clf_et = ExtraTreesClassifier()\n",
    "# clf = RandomizedSearchCV(clf_et, model_params, n_iter=100, cv=5, random_state=1, n_jobs=-1)\n",
    "# model = clf.fit(X_train, y_train)"
   ]
  },
  {
   "cell_type": "code",
   "execution_count": 398,
   "metadata": {
    "scrolled": true
   },
   "outputs": [],
   "source": [
    "# pprint(model.best_estimator_.get_params())"
   ]
  },
  {
   "cell_type": "code",
   "execution_count": 399,
   "metadata": {},
   "outputs": [],
   "source": [
    "clf_et_s = ExtraTreesClassifier(\n",
    "    n_estimators=79,\n",
    "    criterion='gini',\n",
    "    max_depth=None,\n",
    "    min_samples_leaf=2,\n",
    "    min_weight_fraction_leaf=0.0,\n",
    "    max_features=0.30089011967049445,\n",
    "    max_leaf_nodes=16,\n",
    "    min_impurity_decrease=0.0,\n",
    "    min_impurity_split=None,\n",
    "    bootstrap=True,\n",
    "    oob_score=False,\n",
    "    n_jobs=-1,\n",
    "    random_state=38,\n",
    "    verbose=0,\n",
    "    warm_start=True,\n",
    "    class_weight=None\n",
    ")"
   ]
  },
  {
   "cell_type": "code",
   "execution_count": 400,
   "metadata": {},
   "outputs": [
    {
     "data": {
      "text/plain": [
       "ExtraTreesClassifier(bootstrap=True, class_weight=None, criterion='gini',\n",
       "                     max_depth=None, max_features=0.30089011967049445,\n",
       "                     max_leaf_nodes=16, min_impurity_decrease=0.0,\n",
       "                     min_impurity_split=None, min_samples_leaf=2,\n",
       "                     min_samples_split=2, min_weight_fraction_leaf=0.0,\n",
       "                     n_estimators=79, n_jobs=-1, oob_score=False,\n",
       "                     random_state=38, verbose=0, warm_start=True)"
      ]
     },
     "execution_count": 400,
     "metadata": {},
     "output_type": "execute_result"
    }
   ],
   "source": [
    "clf_et_s.fit(X_train, y_train)"
   ]
  },
  {
   "cell_type": "code",
   "execution_count": 401,
   "metadata": {},
   "outputs": [
    {
     "name": "stdout",
     "output_type": "stream",
     "text": [
      "              precision    recall  f1-score   support\n",
      "\n",
      "           0       0.87      0.81      0.84      2715\n",
      "           1       0.92      0.95      0.93      6048\n",
      "\n",
      "    accuracy                           0.90      8763\n",
      "   macro avg       0.89      0.88      0.88      8763\n",
      "weighted avg       0.90      0.90      0.90      8763\n",
      "\n"
     ]
    },
    {
     "data": {
      "text/plain": [
       "0.9596129368976973"
      ]
     },
     "execution_count": 401,
     "metadata": {},
     "output_type": "execute_result"
    }
   ],
   "source": [
    "y_tree_probability = clf_et_s.predict_proba(X_test)[:,1]\n",
    "y_v_predict = clf_et_s.predict(X_test)\n",
    "\n",
    "# Check metrics\n",
    "print(metrics.classification_report(y_test, y_v_predict))\n",
    "\n",
    "# Check ROC-AUC score\n",
    "searchCVScores.append(metrics.roc_auc_score(y_test, y_tree_probability))\n",
    "searchCVScores[-1]"
   ]
  },
  {
   "cell_type": "code",
   "execution_count": 402,
   "metadata": {},
   "outputs": [],
   "source": [
    "clf_v = VotingClassifier(\n",
    "    estimators=[('rf', clf_rf), \n",
    "                ('et', clf_et), \n",
    "                ('dt', clf_dt)], \n",
    "    voting='soft', \n",
    "    n_jobs=-1)"
   ]
  },
  {
   "cell_type": "code",
   "execution_count": 403,
   "metadata": {},
   "outputs": [
    {
     "data": {
      "text/plain": [
       "VotingClassifier(estimators=[('rf',\n",
       "                              RandomForestClassifier(bootstrap=True,\n",
       "                                                     class_weight=None,\n",
       "                                                     criterion='entropy',\n",
       "                                                     max_depth=None,\n",
       "                                                     max_features='sqrt',\n",
       "                                                     max_leaf_nodes=29,\n",
       "                                                     min_impurity_decrease=0.0,\n",
       "                                                     min_impurity_split=None,\n",
       "                                                     min_samples_leaf=7,\n",
       "                                                     min_samples_split=2,\n",
       "                                                     min_weight_fraction_leaf=0.0,\n",
       "                                                     n_estimators=100,\n",
       "                                                     n_jobs=-1, oob_score=False,\n",
       "                                                     random_state=42, verbose=0...\n",
       "                                                   warm_start=False)),\n",
       "                             ('dt',\n",
       "                              DecisionTreeClassifier(class_weight=None,\n",
       "                                                     criterion='entropy',\n",
       "                                                     max_depth=5,\n",
       "                                                     max_features=None,\n",
       "                                                     max_leaf_nodes=None,\n",
       "                                                     min_impurity_decrease=0.0,\n",
       "                                                     min_impurity_split=None,\n",
       "                                                     min_samples_leaf=13,\n",
       "                                                     min_samples_split=3,\n",
       "                                                     min_weight_fraction_leaf=0.0,\n",
       "                                                     presort=False,\n",
       "                                                     random_state=42,\n",
       "                                                     splitter='best'))],\n",
       "                 flatten_transform=True, n_jobs=-1, voting='soft',\n",
       "                 weights=None)"
      ]
     },
     "execution_count": 403,
     "metadata": {},
     "output_type": "execute_result"
    }
   ],
   "source": [
    "clf_v.fit(X_train, y_train)"
   ]
  },
  {
   "cell_type": "code",
   "execution_count": 404,
   "metadata": {},
   "outputs": [
    {
     "name": "stdout",
     "output_type": "stream",
     "text": [
      "              precision    recall  f1-score   support\n",
      "\n",
      "           0       0.89      0.87      0.88      2715\n",
      "           1       0.94      0.95      0.95      6048\n",
      "\n",
      "    accuracy                           0.93      8763\n",
      "   macro avg       0.92      0.91      0.91      8763\n",
      "weighted avg       0.93      0.93      0.93      8763\n",
      "\n"
     ]
    },
    {
     "data": {
      "text/plain": [
       "0.9735749973203933"
      ]
     },
     "execution_count": 404,
     "metadata": {},
     "output_type": "execute_result"
    }
   ],
   "source": [
    "y_tree_probability = clf_v.predict_proba(X_test)[:,1]\n",
    "y_v_predict = clf_v.predict(X_test)\n",
    "\n",
    "# Check metrics\n",
    "print(metrics.classification_report(y_test, y_v_predict))\n",
    "\n",
    "# Check ROC-AUC score\n",
    "searchScores.append(metrics.roc_auc_score(y_test, y_tree_probability))\n",
    "searchScores[-1]"
   ]
  },
  {
   "cell_type": "code",
   "execution_count": 405,
   "metadata": {},
   "outputs": [],
   "source": [
    "clf_v_s = VotingClassifier(\n",
    "    estimators=[('rf', clf_rf_s), \n",
    "                ('et', clf_et_s), \n",
    "                ('dt', clf_dt_s)], \n",
    "    voting='soft', \n",
    "    n_jobs=-1)"
   ]
  },
  {
   "cell_type": "code",
   "execution_count": 406,
   "metadata": {},
   "outputs": [
    {
     "data": {
      "text/plain": [
       "VotingClassifier(estimators=[('rf',\n",
       "                              RandomForestClassifier(bootstrap=True,\n",
       "                                                     class_weight=None,\n",
       "                                                     criterion='gini',\n",
       "                                                     max_depth=None,\n",
       "                                                     max_features=0.2864742729236049,\n",
       "                                                     max_leaf_nodes=14,\n",
       "                                                     min_impurity_decrease=0.0,\n",
       "                                                     min_impurity_split=None,\n",
       "                                                     min_samples_leaf=10,\n",
       "                                                     min_samples_split=2,\n",
       "                                                     min_weight_fraction_leaf=0.0,\n",
       "                                                     n_estimators=79, n_jobs=-1,\n",
       "                                                     oob_score=False,\n",
       "                                                     random_state=40,...\n",
       "                                                   warm_start=True)),\n",
       "                             ('dt',\n",
       "                              DecisionTreeClassifier(class_weight=None,\n",
       "                                                     criterion='entropy',\n",
       "                                                     max_depth=27,\n",
       "                                                     max_features=None,\n",
       "                                                     max_leaf_nodes=None,\n",
       "                                                     min_impurity_decrease=0.0,\n",
       "                                                     min_impurity_split=None,\n",
       "                                                     min_samples_leaf=14,\n",
       "                                                     min_samples_split=2,\n",
       "                                                     min_weight_fraction_leaf=0.0,\n",
       "                                                     presort=False,\n",
       "                                                     random_state=42,\n",
       "                                                     splitter='best'))],\n",
       "                 flatten_transform=True, n_jobs=-1, voting='soft',\n",
       "                 weights=None)"
      ]
     },
     "execution_count": 406,
     "metadata": {},
     "output_type": "execute_result"
    }
   ],
   "source": [
    "clf_v_s.fit(X_train, y_train)"
   ]
  },
  {
   "cell_type": "code",
   "execution_count": 407,
   "metadata": {},
   "outputs": [
    {
     "name": "stdout",
     "output_type": "stream",
     "text": [
      "              precision    recall  f1-score   support\n",
      "\n",
      "           0       0.90      0.85      0.87      2715\n",
      "           1       0.93      0.96      0.94      6048\n",
      "\n",
      "    accuracy                           0.92      8763\n",
      "   macro avg       0.91      0.90      0.91      8763\n",
      "weighted avg       0.92      0.92      0.92      8763\n",
      "\n"
     ]
    },
    {
     "data": {
      "text/plain": [
       "0.9714233644654916"
      ]
     },
     "execution_count": 407,
     "metadata": {},
     "output_type": "execute_result"
    }
   ],
   "source": [
    "y_tree_probability = clf_v_s.predict_proba(X_test)[:,1]\n",
    "y_v_predict = clf_v_s.predict(X_test)\n",
    "\n",
    "# Check metrics\n",
    "print(metrics.classification_report(y_test, y_v_predict))\n",
    "\n",
    "# Check ROC-AUC score\n",
    "searchCVScores.append(metrics.roc_auc_score(y_test, y_tree_probability))\n",
    "searchCVScores[-1]"
   ]
  },
  {
   "cell_type": "code",
   "execution_count": 408,
   "metadata": {},
   "outputs": [
    {
     "name": "stdout",
     "output_type": "stream",
     "text": [
      "[0.9695350334220041, 0.9726327197033918, 0.9695676759040017, 0.9735749973203933]\n",
      "[0.9574186434856324, 0.9709039166106384, 0.9596129368976973, 0.9714233644654916]\n"
     ]
    }
   ],
   "source": [
    "print(searchScores)\n",
    "print(searchCVScores)\n",
    "\n",
    "for i in range(len(searchScores)):\n",
    "    searchScores[i] = (1-searchScores[i])*100\n",
    "    searchCVScores[i]= (1-searchCVScores[i])*100\n",
    "\n"
   ]
  },
  {
   "cell_type": "code",
   "execution_count": 411,
   "metadata": {
    "scrolled": true
   },
   "outputs": [
    {
     "data": {
      "image/png": "[encoded data removed]",
      "text/plain": [
       "<Figure size 720x504 with 1 Axes>"
      ]
     },
     "metadata": {
      "needs_background": "light"
     },
     "output_type": "display_data"
    }
   ],
   "source": [
    "n_groups = 4\n",
    "\n",
    "fig, ax = plt.subplots(figsize=(10,7))\n",
    "index = np.arange(n_groups)\n",
    "bar_width = 0.35\n",
    "opacity = 0.8\n",
    "\n",
    "my_search = plt.bar(\n",
    "    index, \n",
    "    searchScores, \n",
    "    bar_width,\n",
    "    alpha=opacity,\n",
    "    color='teal',\n",
    "    label='My tune'\n",
    ")\n",
    "\n",
    "searchCV = plt.bar(\n",
    "    index + bar_width, \n",
    "    searchCVScores, \n",
    "    bar_width,\n",
    "    alpha=opacity,\n",
    "    color='wheat',\n",
    "    label='RandomizedSearchCV'\n",
    ")\n",
    "    \n",
    "plt.xlabel('Algorithms')\n",
    "plt.ylabel('Error (%)')\n",
    "plt.title('Comparation of my tune and RandomizedSearchCV')\n",
    "plt.xticks(index + bar_width, ('Descision tree', 'Random forest', 'Extra trees', 'Voting'))\n",
    "plt.legend()\n",
    "\n",
    "plt.tight_layout()\n",
    "plt.show()"
   ]
  },
  {
   "cell_type": "markdown",
   "metadata": {},
   "source": [
    "Here you can see score comparation of my hyperparameter setting and RandomizedSearchCV setting of some classification tree algorithms. I can say that my tuning have become more effective than RandomizedSearchCV methods. This is largely due to the fact that I couldn't iterate over all parameters because of insufficient computing power of my laptop. So I've chosen only a few of them.\n",
    "\n",
    "As you can see on charts, Descision Tree Classifier appears to be the weakest algorithm and the most effective is Voting. However the difference is small and it suggests that they can be equally well used with carefully selected hyperparameters."
   ]
  },
  {
   "cell_type": "code",
   "execution_count": null,
   "metadata": {},
   "outputs": [],
   "source": []
  }
 ],
 "metadata": {
  "kernelspec": {
   "display_name": "Python 3",
   "language": "python",
   "name": "python3"
  },
  "language_info": {
   "codemirror_mode": {
    "name": "ipython",
    "version": 3
   },
   "file_extension": ".py",
   "mimetype": "text/x-python",
   "name": "python",
   "nbconvert_exporter": "python",
   "pygments_lexer": "ipython3",
   "version": "3.7.3"
  }
 },
 "nbformat": 4,
 "nbformat_minor": 2
}
