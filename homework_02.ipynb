{
 "cells": [
  {
   "cell_type": "markdown",
   "metadata": {},
   "source": [
    "**Please follow PEP8 during writing code in Python. Readability matters**"
   ]
  },
  {
   "cell_type": "markdown",
   "metadata": {},
   "source": [
    "# Lists"
   ]
  },
  {
   "cell_type": "markdown",
   "metadata": {},
   "source": [
    "1. Write a Python program to get unique values from a list."
   ]
  },
  {
   "cell_type": "code",
   "execution_count": 1,
   "metadata": {},
   "outputs": [
    {
     "name": "stdout",
     "output_type": "stream",
     "text": [
      "{1, 3, 'one', 5, 'five', 'two'}\n"
     ]
    }
   ],
   "source": [
    "in_data = ['one', 'two', 'one', 'five', 'five', 3, 5, 3, 1]\n",
    "\n",
    "res = set(in_data)\n",
    "print(res)"
   ]
  },
  {
   "cell_type": "markdown",
   "metadata": {},
   "source": [
    "2. Write a Python program to generate all sublists of a list."
   ]
  },
  {
   "cell_type": "code",
   "execution_count": 4,
   "metadata": {},
   "outputs": [
    {
     "name": "stdout",
     "output_type": "stream",
     "text": [
      "[0]\n",
      "[0, 1]\n",
      "[0, 1, 2]\n",
      "[0, 1, 2, 3]\n",
      "[0, 1, 2, 3, 4]\n",
      "[0, 1, 2, 3, 4, 5]\n",
      "[1]\n",
      "[1, 2]\n",
      "[1, 2, 3]\n",
      "[1, 2, 3, 4]\n",
      "[1, 2, 3, 4, 5]\n",
      "[2]\n",
      "[2, 3]\n",
      "[2, 3, 4]\n",
      "[2, 3, 4, 5]\n",
      "[3]\n",
      "[3, 4]\n",
      "[3, 4, 5]\n",
      "[4]\n",
      "[4, 5]\n",
      "[5]\n"
     ]
    }
   ],
   "source": [
    "def gen_sublists(data):\n",
    "    for i in range(len(data) + 1):\n",
    "        for j in range(i + 1, len(data) + 1):\n",
    "            yield data[i:j]\n",
    "\n",
    "\n",
    "data = [a for a in range(6)]\n",
    "res = gen_sublists(data)\n",
    "\n",
    "for r in res:\n",
    "    print(r)"
   ]
  },
  {
   "cell_type": "markdown",
   "metadata": {},
   "source": [
    "*3. Write a Python program to find a tuple, the smallest second index value from a list of tuples."
   ]
  },
  {
   "cell_type": "code",
   "execution_count": 11,
   "metadata": {},
   "outputs": [
    {
     "data": {
      "text/plain": [
       "-24"
      ]
     },
     "execution_count": 11,
     "metadata": {},
     "output_type": "execute_result"
    }
   ],
   "source": [
    "t = [(3, 5), (6, 2), (9, 9), (1, 9), (50, 1, -13), (34, -24, 2, 4, 1)]\n",
    "\n",
    "min_second = t[0][1]\n",
    "for a in t:\n",
    "    if a[1] < min_second:\n",
    "        min_second = a[1]\n",
    "\n",
    "min_second"
   ]
  },
  {
   "cell_type": "markdown",
   "metadata": {},
   "source": [
    "4. Write a Python program to create a list of empty dictionaries."
   ]
  },
  {
   "cell_type": "code",
   "execution_count": 3,
   "metadata": {},
   "outputs": [
    {
     "name": "stdout",
     "output_type": "stream",
     "text": [
      "{}\n",
      "{}\n",
      "{}\n",
      "{}\n"
     ]
    }
   ],
   "source": [
    "def dictlist(n):\n",
    "    for i in range(n):\n",
    "        yield {}\n",
    "\n",
    "\n",
    "res = dictlist(4)\n",
    "for r in res:\n",
    "    print(r)"
   ]
  },
  {
   "cell_type": "markdown",
   "metadata": {},
   "source": [
    "# Dictionaries"
   ]
  },
  {
   "cell_type": "markdown",
   "metadata": {},
   "source": [
    "1. Write a Python program to multiply all the items in a dictionary."
   ]
  },
  {
   "cell_type": "code",
   "execution_count": 29,
   "metadata": {},
   "outputs": [
    {
     "name": "stdout",
     "output_type": "stream",
     "text": [
      "{1: 3, 2: 4, 3: 5, 4: 6, 5: 7, 6: 8}\n"
     ]
    },
    {
     "data": {
      "text/plain": [
       "20160"
      ]
     },
     "execution_count": 29,
     "metadata": {},
     "output_type": "execute_result"
    }
   ],
   "source": [
    "from functools import reduce\n",
    "\n",
    "dict = {a: a + 2 for a in range(1, 7)}\n",
    "print(dict)\n",
    "\n",
    "reduce(lambda x, y: x * y, dict.values())"
   ]
  },
  {
   "cell_type": "markdown",
   "metadata": {},
   "source": [
    "2. Write a Python program to find the highest 3 values in a dictionary."
   ]
  },
  {
   "cell_type": "code",
   "execution_count": 30,
   "metadata": {},
   "outputs": [
    {
     "name": "stdout",
     "output_type": "stream",
     "text": [
      "{2: 352, 3: 53, 21: 4, 7: 9, 8: 3, 9: 912, -4: -14}\n"
     ]
    },
    {
     "data": {
      "text/plain": [
       "[53, 352, 912]"
      ]
     },
     "execution_count": 30,
     "metadata": {},
     "output_type": "execute_result"
    }
   ],
   "source": [
    "def three_max(d):\n",
    "    return list(d.values()) if len(d) <= 3 else list(sorted(d.values()))[-3:]\n",
    "\n",
    "\n",
    "d = {2: 352, 3: 53, 21: 4, 7: 9, 8: 3, 9: 912, -4: -14}\n",
    "print(d)\n",
    "\n",
    "three_max(d)"
   ]
  },
  {
   "cell_type": "markdown",
   "metadata": {},
   "source": [
    "*3. Write a Python program to count number of items in a dictionary value that is a list."
   ]
  },
  {
   "cell_type": "code",
   "execution_count": 5,
   "metadata": {},
   "outputs": [
    {
     "data": {
      "text/plain": [
       "4"
      ]
     },
     "execution_count": 5,
     "metadata": {},
     "output_type": "execute_result"
    }
   ],
   "source": [
    "d = {3: [5], 2: 4, 7: [3], 8: 3, 9: [9, 1], -4: -14, -23: []}\n",
    "\n",
    "count = 0\n",
    "for val in d.values():\n",
    "    if type(val) is list:\n",
    "        count += 1       \n",
    "count"
   ]
  },
  {
   "cell_type": "markdown",
   "metadata": {},
   "source": [
    "4. Write a Python program to iterate over dictionaries using for loops."
   ]
  },
  {
   "cell_type": "code",
   "execution_count": 19,
   "metadata": {},
   "outputs": [
    {
     "name": "stdout",
     "output_type": "stream",
     "text": [
      "0 : 2\n",
      "1 : 3\n",
      "2 : 4\n",
      "3 : 5\n",
      "4 : 6\n",
      "\n",
      "3 : 6\n",
      "4 : 8\n",
      "\n"
     ]
    }
   ],
   "source": [
    "dlst = [{a: a + 2 for a in range(5)},\n",
    "        {a: a * 2 for a in range(3, 5)}]\n",
    "\n",
    "for d in dlst:\n",
    "    for key in d.keys():\n",
    "        print(key, ':', d[key])\n",
    "    print()"
   ]
  },
  {
   "cell_type": "markdown",
   "metadata": {},
   "source": [
    "# Loops"
   ]
  },
  {
   "cell_type": "markdown",
   "metadata": {},
   "source": [
    "*1. Write a Python program to print alphabet pattern 'M'.\n",
    "    Expected Output:\n",
    "\n",
    "        *       *                                                             \n",
    "        *       *                                                             \n",
    "        * *   * *                                                             \n",
    "        *   *   *                                                             \n",
    "        *       *                                                             \n",
    "        *       *                                                             \n",
    "        *       *"
   ]
  },
  {
   "cell_type": "code",
   "execution_count": 20,
   "metadata": {},
   "outputs": [
    {
     "name": "stdout",
     "output_type": "stream",
     "text": [
      "*       * \n",
      "*       * \n",
      "* *   * * \n",
      "*   *   * \n",
      "*       * \n",
      "*       * \n",
      "*       * \n"
     ]
    }
   ],
   "source": [
    "h = 7\n",
    "w = 5\n",
    "\n",
    "for i in range(h):\n",
    "    for j in range(w):\n",
    "        if j == 0 or j == w - 1 or (i == 2 and j == 1) \\\n",
    "                or (i == 3 and j == 2) or (i == 2 and j == 3):\n",
    "            print('*', end=' ')\n",
    "        else:\n",
    "            print(' ', end=' ')\n",
    "    print()"
   ]
  },
  {
   "cell_type": "markdown",
   "metadata": {},
   "source": [
    "2. Write a Python program that accepts a string and calculate the number of digits and letters.\n",
    "\t\tSample Data : Python 3.2\n",
    "\t\tExpected Output :\n",
    "\t\tLetters 6\n",
    "\t\tDigits 2"
   ]
  },
  {
   "cell_type": "code",
   "execution_count": 7,
   "metadata": {},
   "outputs": [
    {
     "name": "stdout",
     "output_type": "stream",
     "text": [
      "sd<//??/23tb\n",
      "Letters 4\n",
      "Digits 2\n"
     ]
    }
   ],
   "source": [
    "in_str = input()\n",
    "\n",
    "digits = sum(d.isdigit() for d in in_str)\n",
    "letters = sum(c.isalpha() for c in in_str)\n",
    "\n",
    "print('Letters {}\\nDigits {}'.format(letters, digits))\n"
   ]
  },
  {
   "cell_type": "markdown",
   "metadata": {},
   "source": [
    "3. Write a Python program to construct the following pattern, using a nested loop number.\n",
    "\t\tExpected Output:\n",
    "\t\t1\n",
    "\t\t22\n",
    "\t\t333\n",
    "\t\t4444\n",
    "\t\t55555\n",
    "\t\t666666\n",
    "\t\t7777777\n",
    "\t\t88888888\n",
    "\t\t999999999"
   ]
  },
  {
   "cell_type": "code",
   "execution_count": 6,
   "metadata": {},
   "outputs": [
    {
     "name": "stdout",
     "output_type": "stream",
     "text": [
      "1\n",
      "22\n",
      "333\n",
      "4444\n",
      "55555\n",
      "666666\n",
      "7777777\n",
      "88888888\n",
      "999999999\n"
     ]
    }
   ],
   "source": [
    "num = 1\n",
    "\n",
    "while num <= 9:\n",
    "    print(str(num) * num)\n",
    "    num += 1\n"
   ]
  },
  {
   "cell_type": "code",
   "execution_count": null,
   "metadata": {},
   "outputs": [],
   "source": []
  }
 ],
 "metadata": {
  "kernelspec": {
   "display_name": "Python 3",
   "language": "python",
   "name": "python3"
  },
  "language_info": {
   "codemirror_mode": {
    "name": "ipython",
    "version": 3
   },
   "file_extension": ".py",
   "mimetype": "text/x-python",
   "name": "python",
   "nbconvert_exporter": "python",
   "pygments_lexer": "ipython3",
   "version": "3.7.3"
  }
 },
 "nbformat": 4,
 "nbformat_minor": 4
}
