{
 "cells": [
  {
   "cell_type": "markdown",
   "metadata": {},
   "source": [
    "# Telegram Parser"
   ]
  },
  {
   "cell_type": "markdown",
   "metadata": {},
   "source": [
    "А сейчас я расскажу и покажу, как из чата в Телеграме можно достать информацию об его участниках."
   ]
  },
  {
   "cell_type": "markdown",
   "metadata": {},
   "source": [
    "Сперва нам необходимо зарегестрировать свое телеграм-приложение. Для этого переходим по ссылке https://my.telegram.org/apps \n",
    "\n",
    "Заполняем форму и нажимаем на <b>Create application</b>.\n",
    "\n",
    "Далее попросят ввести номер телефона для аутефикации по высылаемому паролю. Не паникуем и вводим личные данные. Этот шаг обязателен! \n",
    "\n",
    "В появившемся окошке App Configuration находим два поля: App api_id и App api_hash.\n",
    "Чтобы их не потерять, предлагаю сразу же инициализировать соответствующие переменные своими значениями:"
   ]
  },
  {
   "cell_type": "code",
   "execution_count": 7,
   "metadata": {},
   "outputs": [],
   "source": [
    "u_id = 123456\n",
    "u_hash = 'plzEnterApiHash'"
   ]
  },
  {
   "cell_type": "markdown",
   "metadata": {},
   "source": [
    "А дальше в бой вступает библиотека pyrogram. "
   ]
  },
  {
   "cell_type": "code",
   "execution_count": 29,
   "metadata": {},
   "outputs": [
    {
     "name": "stdout",
     "output_type": "stream",
     "text": [
      "Requirement already satisfied: pyrogram in c:\\python\\anaconda3\\lib\\site-packages (0.16.0)\n",
      "Requirement already satisfied: pysocks==1.7.0 in c:\\python\\anaconda3\\lib\\site-packages (from pyrogram) (1.7.0)\n",
      "Requirement already satisfied: pyaes==1.6.1 in c:\\python\\anaconda3\\lib\\site-packages (from pyrogram) (1.6.1)\n",
      "Requirement already satisfied: tgcrypto in c:\\python\\anaconda3\\lib\\site-packages (1.2.0)\n"
     ]
    }
   ],
   "source": [
    "!pip install pyrogram\n",
    "!pip install tgcrypto"
   ]
  },
  {
   "cell_type": "markdown",
   "metadata": {},
   "source": [
    "Посмотрим, что тут у нас:\n",
    "\n",
    "<b>chat</b> - название чата или его ID\n",
    "\n",
    "<b>string_format</b> - формат строки для вывода\n",
    "\n",
    "функция <b>to_file</b> для записи результатов в файл\n",
    "\n",
    "функция <b>to_df</b> для записи результатов в датафрейм"
   ]
  },
  {
   "cell_type": "code",
   "execution_count": 14,
   "metadata": {
    "collapsed": true
   },
   "outputs": [
    {
     "name": "stdout",
     "output_type": "stream",
     "text": [
      "Сбор данных окончен\n",
      "            ID FIRST_NAME      lAST_NAME              USERNAME\n",
      "0    525544142      Darya           None             mylenrise\n",
      "1    455880722       Варя           None              varya143\n",
      "2    379565659       Nick         Vlasov            nick_trick\n",
      "3    115961604     Arseny     Kravchenko            arsenyinfo\n",
      "4    317026653      Boris     Iosilevsky            mrloregood\n",
      "..         ...        ...            ...                   ...\n",
      "512  200751630     Andrei      Klimovich               kwetril\n",
      "513  427025811      Denis     Kuratovich              krtdenis\n",
      "514  100933478  Alexander             La               samikb2\n",
      "515   33796598   Yaroslav       Otnyukov              krasgang\n",
      "516  346481647      Tanya  Solodovnikova  tatianasolodovnikova\n",
      "\n",
      "[517 rows x 4 columns]\n"
     ]
    }
   ],
   "source": [
    "import pandas as pd\n",
    "import numpy as np\n",
    "import time\n",
    "import json\n",
    "from pyrogram import Client\n",
    "from pyrogram.errors import FloodWait\n",
    "\n",
    "\n",
    "app = Client('session', api_id = u_id, api_hash = u_hash) \n",
    "\n",
    "chat = 'odsminsk' \n",
    "string_format = 'ID: {id} \\nИмя: {first_name} \\nФамилия:\\\n",
    "{last_name}\\nUsername: {username}\\nСтатус: {status}\\n\\n' \n",
    "\n",
    "\n",
    "def parser(id):\n",
    "    members = []\n",
    "    offset = 0\n",
    "    limit = 200\n",
    "\n",
    "    while True:\n",
    "        try:\n",
    "            chunk = app.get_chat_members(id, offset)\n",
    "        except FloodWait as e:\n",
    "            time.sleep(e.x)\n",
    "            continue\n",
    "        if not chunk:\n",
    "            break\n",
    "            \n",
    "        members.extend(chunk)\n",
    "        offset += len(chunk)\n",
    "    return members\n",
    "\n",
    "\n",
    "def text_format(data, template):\n",
    "    data = json.loads(str(data))\n",
    "    data['user'].setdefault('first_name', '-') \n",
    "    data['user'].setdefault('last_name',  '-')\n",
    "    data['user'].setdefault('username',  '-')\n",
    "    \n",
    "    return template.format(id=data['user']['id'],\n",
    "                           first_name=data['user']['first_name'],\n",
    "                           last_name=data['user']['last_name'],\n",
    "                           username=data['user']['username'],\n",
    "                           status=data['status'])\n",
    "\n",
    "\n",
    "def to_file(data, template_format, path):\n",
    "    with open(path, 'w', encoding='utf8') as file:\n",
    "        file.writelines('Количество пользователей: {0}\\n\\n'.format(len(data)))\n",
    "        file.writelines([text_format(user, template_format) for user in data])\n",
    "        \n",
    "\n",
    "def to_df(data):\n",
    "    uid = [user['user']['id'] for user in data]\n",
    "    first_name = [user['user']['first_name'] for user in data]\n",
    "    last_name = [user['user']['last_name'] for user in data]\n",
    "    username = [user['user']['username'] for user in data]\n",
    "    \n",
    "    df = pd.DataFrame();\n",
    "    df['ID'] = pd.Series(uid)\n",
    "    df['FIRST_NAME'] = pd.Series(first_name)\n",
    "    df['lAST_NAME'] = pd.Series(last_name)\n",
    "    df['USERNAME'] = pd.Series(username)\n",
    "      \n",
    "    return df\n",
    "\n",
    "\n",
    "with app:\n",
    "    data = parser(chat)\n",
    "    to_file(data, string_format, 'out_{0}.txt'.format(chat))\n",
    "    print('Сбор данных окончен')\n",
    "    \n",
    "    df = to_df(data)\n",
    "    print(df)\n",
    "\n"
   ]
  },
  {
   "cell_type": "markdown",
   "metadata": {},
   "source": [
    "При первом запуске следующего кода опять попросят ввести номер телефона и ввести пришедший код подтверждения. Делать нечего, придется!"
   ]
  },
  {
   "cell_type": "markdown",
   "metadata": {},
   "source": [
    "Когда программа отработает, результаты найдем в появившемся файле <b>out_chatname.txt</b>\n",
    "\n",
    "По итогу, нам удалось вытянуть из чата имена, фамилии, юзернеймы и статусы пользователей. \n"
   ]
  },
  {
   "cell_type": "markdown",
   "metadata": {},
   "source": [
    "### ВСЁ"
   ]
  }
 ],
 "metadata": {
  "kernelspec": {
   "display_name": "Python 3",
   "language": "python",
   "name": "python3"
  },
  "language_info": {
   "codemirror_mode": {
    "name": "ipython",
    "version": 3
   },
   "file_extension": ".py",
   "mimetype": "text/x-python",
   "name": "python",
   "nbconvert_exporter": "python",
   "pygments_lexer": "ipython3",
   "version": "3.7.3"
  }
 },
 "nbformat": 4,
 "nbformat_minor": 2
}
